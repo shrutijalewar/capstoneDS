{
 "cells": [
  {
   "cell_type": "markdown",
   "metadata": {},
   "source": [
    "https://github.com/cjhutto/vaderSentiment\n",
    "https://www.learndatasci.com/tutorials/sentiment-analysis-reddit-headlines-pythons-nltk/\n",
    "https://www.kaggle.com/anhuang/kmeans-cluster-and-topic-modeling\n",
    "https://uc-r.github.io/sentiment_analysis"
   ]
  },
  {
   "cell_type": "code",
   "execution_count": 2,
   "metadata": {},
   "outputs": [],
   "source": [
    "# pip install vaderSentiment"
   ]
  },
  {
   "cell_type": "code",
   "execution_count": 8,
   "metadata": {},
   "outputs": [],
   "source": [
    "from vaderSentiment.vaderSentiment import SentimentIntensityAnalyzer\n",
    "import pandas as pd\n",
    "\n",
    "analyser = SentimentIntensityAnalyzer()"
   ]
  },
  {
   "cell_type": "code",
   "execution_count": 34,
   "metadata": {},
   "outputs": [],
   "source": [
    "def print_sentiment_scores(sentence):\n",
    "    snt = analyser.polarity_scores(sentence)\n",
    "    print(\"{:-<40} {}\".format(sentence, str(snt)))\n",
    "    print(\"{:-<40} {}\".format(sentence, snt['compound']))\n",
    "    print(\"{:-<40} {}\".format(sentence, snt['pos']))\n",
    "    print(\"{:-<40} {}\".format(sentence, snt['neg']))\n",
    "    print(\"{:-<40} {}\".format(sentence, snt['neu']))"
   ]
  },
  {
   "cell_type": "code",
   "execution_count": 35,
   "metadata": {},
   "outputs": [
    {
     "name": "stdout",
     "output_type": "stream",
     "text": [
      "I have a go live date in 7 days and I have no clue how it is going to go {'neg': 0.128, 'neu': 0.872, 'pos': 0.0, 'compound': -0.296}\n",
      "I have a go live date in 7 days and I have no clue how it is going to go -0.296\n",
      "I have a go live date in 7 days and I have no clue how it is going to go 0.0\n",
      "I have a go live date in 7 days and I have no clue how it is going to go 0.128\n",
      "I have a go live date in 7 days and I have no clue how it is going to go 0.872\n"
     ]
    }
   ],
   "source": [
    "print_sentiment_scores(\"I have a go live date in 7 days and I have no clue how it is going to go\")\n"
   ]
  },
  {
   "cell_type": "code",
   "execution_count": 62,
   "metadata": {},
   "outputs": [],
   "source": [
    "all_news = pd.read_csv('all_news.csv')"
   ]
  },
  {
   "cell_type": "code",
   "execution_count": 63,
   "metadata": {},
   "outputs": [],
   "source": [
    "# def saTitle(string):\n",
    "#     snt = analyser.polarity_scores(string)\n",
    "#     return snt[\"compound\"]\n",
    "    \n",
    "def compound(string):\n",
    "    snt = analyser.polarity_scores(string)\n",
    "    return snt[\"compound\"]\n",
    "\n",
    "def positive(string):\n",
    "    snt = analyser.polarity_scores(string)\n",
    "    return snt[\"pos\"]\n",
    "\n",
    "def negative(string):\n",
    "    snt = analyser.polarity_scores(string)\n",
    "    return snt[\"neg\"]\n",
    "\n",
    "def neutral(string):\n",
    "    snt = analyser.polarity_scores(string)\n",
    "    return snt[\"neu\"]\n"
   ]
  },
  {
   "cell_type": "code",
   "execution_count": 64,
   "metadata": {},
   "outputs": [
    {
     "ename": "AttributeError",
     "evalue": "'float' object has no attribute 'split'",
     "output_type": "error",
     "traceback": [
      "\u001b[0;31m---------------------------------------------------------------------------\u001b[0m",
      "\u001b[0;31mAttributeError\u001b[0m                            Traceback (most recent call last)",
      "\u001b[0;32m<ipython-input-64-1dd9fe987f7e>\u001b[0m in \u001b[0;36m<module>\u001b[0;34m()\u001b[0m\n\u001b[1;32m      5\u001b[0m \u001b[0;31m#     all_news['compound'] = compound(all_news[\"description\"][i])\u001b[0m\u001b[0;34m\u001b[0m\u001b[0;34m\u001b[0m\u001b[0m\n\u001b[1;32m      6\u001b[0m \u001b[0;34m\u001b[0m\u001b[0m\n\u001b[0;32m----> 7\u001b[0;31m \u001b[0mall_news\u001b[0m\u001b[0;34m[\u001b[0m\u001b[0;34m'positive'\u001b[0m\u001b[0;34m]\u001b[0m \u001b[0;34m=\u001b[0m \u001b[0;34m[\u001b[0m\u001b[0mpositive\u001b[0m\u001b[0;34m(\u001b[0m\u001b[0mdescription\u001b[0m\u001b[0;34m)\u001b[0m \u001b[0;32mfor\u001b[0m \u001b[0mdescription\u001b[0m \u001b[0;32min\u001b[0m \u001b[0mall_news\u001b[0m\u001b[0;34m[\u001b[0m\u001b[0;34m\"description\"\u001b[0m\u001b[0;34m]\u001b[0m\u001b[0;34m]\u001b[0m\u001b[0;34m\u001b[0m\u001b[0m\n\u001b[0m\u001b[1;32m      8\u001b[0m \u001b[0;31m# all_news['negative'] = [negative(description) for description in all_news[\"description\"]]\u001b[0m\u001b[0;34m\u001b[0m\u001b[0;34m\u001b[0m\u001b[0m\n\u001b[1;32m      9\u001b[0m \u001b[0;31m# all_news['neutral'] = [neutral(description) for description in all_news[\"description\"]]\u001b[0m\u001b[0;34m\u001b[0m\u001b[0;34m\u001b[0m\u001b[0m\n",
      "\u001b[0;32m<ipython-input-64-1dd9fe987f7e>\u001b[0m in \u001b[0;36m<listcomp>\u001b[0;34m(.0)\u001b[0m\n\u001b[1;32m      5\u001b[0m \u001b[0;31m#     all_news['compound'] = compound(all_news[\"description\"][i])\u001b[0m\u001b[0;34m\u001b[0m\u001b[0;34m\u001b[0m\u001b[0m\n\u001b[1;32m      6\u001b[0m \u001b[0;34m\u001b[0m\u001b[0m\n\u001b[0;32m----> 7\u001b[0;31m \u001b[0mall_news\u001b[0m\u001b[0;34m[\u001b[0m\u001b[0;34m'positive'\u001b[0m\u001b[0;34m]\u001b[0m \u001b[0;34m=\u001b[0m \u001b[0;34m[\u001b[0m\u001b[0mpositive\u001b[0m\u001b[0;34m(\u001b[0m\u001b[0mdescription\u001b[0m\u001b[0;34m)\u001b[0m \u001b[0;32mfor\u001b[0m \u001b[0mdescription\u001b[0m \u001b[0;32min\u001b[0m \u001b[0mall_news\u001b[0m\u001b[0;34m[\u001b[0m\u001b[0;34m\"description\"\u001b[0m\u001b[0;34m]\u001b[0m\u001b[0;34m]\u001b[0m\u001b[0;34m\u001b[0m\u001b[0m\n\u001b[0m\u001b[1;32m      8\u001b[0m \u001b[0;31m# all_news['negative'] = [negative(description) for description in all_news[\"description\"]]\u001b[0m\u001b[0;34m\u001b[0m\u001b[0;34m\u001b[0m\u001b[0m\n\u001b[1;32m      9\u001b[0m \u001b[0;31m# all_news['neutral'] = [neutral(description) for description in all_news[\"description\"]]\u001b[0m\u001b[0;34m\u001b[0m\u001b[0;34m\u001b[0m\u001b[0m\n",
      "\u001b[0;32m<ipython-input-63-113c7db37b94>\u001b[0m in \u001b[0;36mpositive\u001b[0;34m(string)\u001b[0m\n\u001b[1;32m      8\u001b[0m \u001b[0;34m\u001b[0m\u001b[0m\n\u001b[1;32m      9\u001b[0m \u001b[0;32mdef\u001b[0m \u001b[0mpositive\u001b[0m\u001b[0;34m(\u001b[0m\u001b[0mstring\u001b[0m\u001b[0;34m)\u001b[0m\u001b[0;34m:\u001b[0m\u001b[0;34m\u001b[0m\u001b[0m\n\u001b[0;32m---> 10\u001b[0;31m     \u001b[0msnt\u001b[0m \u001b[0;34m=\u001b[0m \u001b[0manalyser\u001b[0m\u001b[0;34m.\u001b[0m\u001b[0mpolarity_scores\u001b[0m\u001b[0;34m(\u001b[0m\u001b[0mstring\u001b[0m\u001b[0;34m)\u001b[0m\u001b[0;34m\u001b[0m\u001b[0m\n\u001b[0m\u001b[1;32m     11\u001b[0m     \u001b[0;32mreturn\u001b[0m \u001b[0msnt\u001b[0m\u001b[0;34m[\u001b[0m\u001b[0;34m\"pos\"\u001b[0m\u001b[0;34m]\u001b[0m\u001b[0;34m\u001b[0m\u001b[0m\n\u001b[1;32m     12\u001b[0m \u001b[0;34m\u001b[0m\u001b[0m\n",
      "\u001b[0;32m/anaconda3/lib/python3.6/site-packages/vaderSentiment/vaderSentiment.py\u001b[0m in \u001b[0;36mpolarity_scores\u001b[0;34m(self, text)\u001b[0m\n\u001b[1;32m    246\u001b[0m         \"\"\"\n\u001b[1;32m    247\u001b[0m         \u001b[0;31m# convert emojis to their textual descriptions\u001b[0m\u001b[0;34m\u001b[0m\u001b[0;34m\u001b[0m\u001b[0m\n\u001b[0;32m--> 248\u001b[0;31m         \u001b[0mtext_token_list\u001b[0m \u001b[0;34m=\u001b[0m \u001b[0mtext\u001b[0m\u001b[0;34m.\u001b[0m\u001b[0msplit\u001b[0m\u001b[0;34m(\u001b[0m\u001b[0;34m)\u001b[0m\u001b[0;34m\u001b[0m\u001b[0m\n\u001b[0m\u001b[1;32m    249\u001b[0m         \u001b[0mtext_no_emoji_lst\u001b[0m \u001b[0;34m=\u001b[0m \u001b[0;34m[\u001b[0m\u001b[0;34m]\u001b[0m\u001b[0;34m\u001b[0m\u001b[0m\n\u001b[1;32m    250\u001b[0m         \u001b[0;32mfor\u001b[0m \u001b[0mtoken\u001b[0m \u001b[0;32min\u001b[0m \u001b[0mtext_token_list\u001b[0m\u001b[0;34m:\u001b[0m\u001b[0;34m\u001b[0m\u001b[0m\n",
      "\u001b[0;31mAttributeError\u001b[0m: 'float' object has no attribute 'split'"
     ]
    }
   ],
   "source": [
    "# for i in range(len(all_news)):\n",
    "#     all_news['positive'] = positive(all_news[\"description\"][i])\n",
    "#     all_news['negative'] = negative(all_news[\"description\"][i])\n",
    "#     all_news['neutral'] = neutral(all_news[\"description\"][i])\n",
    "#     all_news['compound'] = compound(all_news[\"description\"][i])\n",
    "\n",
    "all_news['positive'] = [positive(description) for description in all_news[\"description\"]] \n",
    "# all_news['negative'] = [negative(description) for description in all_news[\"description\"]]\n",
    "# all_news['neutral'] = [neutral(description) for description in all_news[\"description\"]] \n",
    "# all_news['compound'] = [compound(description) for description in all_news[\"description\"]] "
   ]
  },
  {
   "cell_type": "code",
   "execution_count": 65,
   "metadata": {},
   "outputs": [
    {
     "data": {
      "text/html": [
       "<div>\n",
       "<style scoped>\n",
       "    .dataframe tbody tr th:only-of-type {\n",
       "        vertical-align: middle;\n",
       "    }\n",
       "\n",
       "    .dataframe tbody tr th {\n",
       "        vertical-align: top;\n",
       "    }\n",
       "\n",
       "    .dataframe thead th {\n",
       "        text-align: right;\n",
       "    }\n",
       "</style>\n",
       "<table border=\"1\" class=\"dataframe\">\n",
       "  <thead>\n",
       "    <tr style=\"text-align: right;\">\n",
       "      <th></th>\n",
       "      <th>Unnamed: 0</th>\n",
       "      <th>Unnamed: 0.1</th>\n",
       "      <th>author</th>\n",
       "      <th>description</th>\n",
       "      <th>publishedAt</th>\n",
       "      <th>title</th>\n",
       "      <th>url</th>\n",
       "      <th>urlToImage</th>\n",
       "      <th>id</th>\n",
       "      <th>name</th>\n",
       "    </tr>\n",
       "  </thead>\n",
       "  <tbody>\n",
       "    <tr>\n",
       "      <th>0</th>\n",
       "      <td>0</td>\n",
       "      <td>0</td>\n",
       "      <td>Jacqueline Thomsen</td>\n",
       "      <td>President Trump said at a campaign rally Tuesd...</td>\n",
       "      <td>2018-05-30T01:31:29Z</td>\n",
       "      <td>Trump: Mexico will pay for the wall 'in the end'</td>\n",
       "      <td>http://thehill.com/homenews/administration/389...</td>\n",
       "      <td>http://thehill.com/sites/default/files/trumpdo...</td>\n",
       "      <td>the-hill</td>\n",
       "      <td>The Hill</td>\n",
       "    </tr>\n",
       "    <tr>\n",
       "      <th>1</th>\n",
       "      <td>1</td>\n",
       "      <td>1</td>\n",
       "      <td>MPX</td>\n",
       "      <td>Watch the full episode of Monday night's The R...</td>\n",
       "      <td>2018-05-30T01:31:01Z</td>\n",
       "      <td>Rachel Maddow 5/28/18</td>\n",
       "      <td>http://www.msnbc.com/rachel-maddow-show/watch/...</td>\n",
       "      <td>http://www.msnbc.com/sites/msnbc/files/styles/...</td>\n",
       "      <td>msnbc</td>\n",
       "      <td>MSNBC</td>\n",
       "    </tr>\n",
       "    <tr>\n",
       "      <th>2</th>\n",
       "      <td>2</td>\n",
       "      <td>2</td>\n",
       "      <td>MSNBC.com</td>\n",
       "      <td>Key to racial sensitivity training like what S...</td>\n",
       "      <td>2018-05-30T01:28:49Z</td>\n",
       "      <td>'Racial anxiety' overshadows black experience ...</td>\n",
       "      <td>https://www.msnbc.com/msnbc/watch/-racial-anxi...</td>\n",
       "      <td>https://media1.s-nbcnews.com/j/MSNBC/Component...</td>\n",
       "      <td>msnbc</td>\n",
       "      <td>MSNBC</td>\n",
       "    </tr>\n",
       "    <tr>\n",
       "      <th>3</th>\n",
       "      <td>3</td>\n",
       "      <td>3</td>\n",
       "      <td>kcheney@politico.com (Kyle Cheney)</td>\n",
       "      <td>Rep. Trey Gowdy (R-S.C.) said last week’s brie...</td>\n",
       "      <td>2018-05-30T01:25:54Z</td>\n",
       "      <td>FBI was right to deploy informant, senior GOP ...</td>\n",
       "      <td>https://www.politico.com/story/2018/05/29/gowd...</td>\n",
       "      <td>https://static.politico.com/4e/87/cef16d4b48b3...</td>\n",
       "      <td>politico</td>\n",
       "      <td>Politico</td>\n",
       "    </tr>\n",
       "    <tr>\n",
       "      <th>4</th>\n",
       "      <td>4</td>\n",
       "      <td>4</td>\n",
       "      <td>Charlie Spiering</td>\n",
       "      <td>\"I don’t want to cause any problems, but in th...</td>\n",
       "      <td>2018-05-30T01:25:49Z</td>\n",
       "      <td>Donald Trump: Mexico Will Pay for the Wall and...</td>\n",
       "      <td>http://www.breitbart.com/big-government/2018/0...</td>\n",
       "      <td>http://media.breitbart.com/media/2018/05/Getty...</td>\n",
       "      <td>breitbart-news</td>\n",
       "      <td>Breitbart News</td>\n",
       "    </tr>\n",
       "  </tbody>\n",
       "</table>\n",
       "</div>"
      ],
      "text/plain": [
       "   Unnamed: 0  Unnamed: 0.1                              author  \\\n",
       "0           0             0                  Jacqueline Thomsen   \n",
       "1           1             1                                 MPX   \n",
       "2           2             2                           MSNBC.com   \n",
       "3           3             3  kcheney@politico.com (Kyle Cheney)   \n",
       "4           4             4                    Charlie Spiering   \n",
       "\n",
       "                                         description           publishedAt  \\\n",
       "0  President Trump said at a campaign rally Tuesd...  2018-05-30T01:31:29Z   \n",
       "1  Watch the full episode of Monday night's The R...  2018-05-30T01:31:01Z   \n",
       "2  Key to racial sensitivity training like what S...  2018-05-30T01:28:49Z   \n",
       "3  Rep. Trey Gowdy (R-S.C.) said last week’s brie...  2018-05-30T01:25:54Z   \n",
       "4  \"I don’t want to cause any problems, but in th...  2018-05-30T01:25:49Z   \n",
       "\n",
       "                                               title  \\\n",
       "0   Trump: Mexico will pay for the wall 'in the end'   \n",
       "1                              Rachel Maddow 5/28/18   \n",
       "2  'Racial anxiety' overshadows black experience ...   \n",
       "3  FBI was right to deploy informant, senior GOP ...   \n",
       "4  Donald Trump: Mexico Will Pay for the Wall and...   \n",
       "\n",
       "                                                 url  \\\n",
       "0  http://thehill.com/homenews/administration/389...   \n",
       "1  http://www.msnbc.com/rachel-maddow-show/watch/...   \n",
       "2  https://www.msnbc.com/msnbc/watch/-racial-anxi...   \n",
       "3  https://www.politico.com/story/2018/05/29/gowd...   \n",
       "4  http://www.breitbart.com/big-government/2018/0...   \n",
       "\n",
       "                                          urlToImage              id  \\\n",
       "0  http://thehill.com/sites/default/files/trumpdo...        the-hill   \n",
       "1  http://www.msnbc.com/sites/msnbc/files/styles/...           msnbc   \n",
       "2  https://media1.s-nbcnews.com/j/MSNBC/Component...           msnbc   \n",
       "3  https://static.politico.com/4e/87/cef16d4b48b3...        politico   \n",
       "4  http://media.breitbart.com/media/2018/05/Getty...  breitbart-news   \n",
       "\n",
       "             name  \n",
       "0        The Hill  \n",
       "1           MSNBC  \n",
       "2           MSNBC  \n",
       "3        Politico  \n",
       "4  Breitbart News  "
      ]
     },
     "execution_count": 65,
     "metadata": {},
     "output_type": "execute_result"
    }
   ],
   "source": [
    "all_news.head()"
   ]
  },
  {
   "cell_type": "code",
   "execution_count": 18,
   "metadata": {},
   "outputs": [
    {
     "data": {
      "text/plain": [
       "'President Trump said at a campaign rally Tuesday night that Mexico will pay for his long-promised border wall \"in the end.\"\"In the end, Mexico is going to pay for the wall,\" Trump said at the rally in Nashville, Te...'"
      ]
     },
     "execution_count": 18,
     "metadata": {},
     "output_type": "execute_result"
    }
   ],
   "source": [
    "all_news[\"description\"][0]"
   ]
  },
  {
   "cell_type": "code",
   "execution_count": 30,
   "metadata": {},
   "outputs": [
    {
     "data": {
      "text/plain": [
       "Unnamed: 0         int64\n",
       "Unnamed: 0.1       int64\n",
       "author            object\n",
       "description       object\n",
       "publishedAt       object\n",
       "title             object\n",
       "url               object\n",
       "urlToImage        object\n",
       "id                object\n",
       "name              object\n",
       "saTitle          float64\n",
       "saDescriptiom    float64\n",
       "dtype: object"
      ]
     },
     "execution_count": 30,
     "metadata": {},
     "output_type": "execute_result"
    }
   ],
   "source": [
    "all_news.dtypes"
   ]
  },
  {
   "cell_type": "code",
   "execution_count": null,
   "metadata": {},
   "outputs": [],
   "source": []
  }
 ],
 "metadata": {
  "kernelspec": {
   "display_name": "Python 3",
   "language": "python",
   "name": "python3"
  },
  "language_info": {
   "codemirror_mode": {
    "name": "ipython",
    "version": 3
   },
   "file_extension": ".py",
   "mimetype": "text/x-python",
   "name": "python",
   "nbconvert_exporter": "python",
   "pygments_lexer": "ipython3",
   "version": "3.6.3"
  }
 },
 "nbformat": 4,
 "nbformat_minor": 2
}
